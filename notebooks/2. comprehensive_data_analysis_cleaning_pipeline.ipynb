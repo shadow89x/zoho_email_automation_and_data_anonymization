{
 "cells": [
  {
   "cell_type": "markdown",
   "metadata": {},
   "source": [
    "# Email Automation Data Analysis\n",
    "\n",
    "This notebook provides a comprehensive analysis of customer data, sales data, inventory data, and email communications for the email automation project.\n",
    "\n",
    "## Overview\n",
    "- **Customer Data**: Account information and customer details\n",
    "- **Sales Data**: Transaction records and sales history\n",
    "- **Inventory Data**: Product catalog and stock information\n",
    "- **Email Data**: Communication records from Zoho\n",
    "\n",
    "## Data Sources\n",
    "- `cc (1).csv`: Customer contact information\n",
    "- `fi.CSV`: Inventory/financial data\n",
    "- `s_by_c.CSV`: Sales by customer data\n",
    "- `zoho_emails.json`: Email communication data"
   ]
  },
  {
   "cell_type": "markdown",
   "metadata": {},
   "source": [
    "## 1. Import Libraries and Utilities"
   ]
  },
  {
   "cell_type": "code",
   "execution_count": null,
   "metadata": {},
   "outputs": [],
   "source": [
    "import pandas as pd\n",
    "import numpy as np\n",
    "import matplotlib.pyplot as plt\n",
    "import seaborn as sns\n",
    "import sys\n",
    "import os\n",
    "\n",
    "# Add src directory to path for importing utilities\n",
    "sys.path.append('../src')\n",
    "\n",
    "# Import utility functions\n",
    "from data_utils import (\n",
    "    load_data_files,\n",
    "    load_email_data,\n",
    "    process_account_data,\n",
    "    analyze_business_data,\n",
    "    process_email_dates,\n",
    "    analyze_customer_matching,\n",
    "    clean_customer_name\n",
    ")\n",
    "\n",
    "# Set display options\n",
    "pd.set_option('display.max_columns', None)\n",
    "pd.set_option('display.max_rows', 50)\n",
    "pd.set_option('display.width', None)\n",
    "\n",
    "print(\"Libraries imported successfully!\")\n",
    "print(f\"Current working directory: {os.getcwd()}\")"
   ]
  },
  {
   "cell_type": "markdown",
   "metadata": {},
   "source": [
    "## 2. Load Data Files"
   ]
  },
  {
   "cell_type": "code",
   "execution_count": null,
   "metadata": {},
   "outputs": [],
   "source": [
    "# Load all CSV data files\n",
    "df, df2, df3 = load_data_files()\n",
    "\n",
    "print(\"\\n\" + \"=\"*50)\n",
    "print(\"DATA LOADING COMPLETED\")\n",
    "print(\"=\"*50)"
   ]
  },
  {
   "cell_type": "markdown",
   "metadata": {},
   "source": [
    "## 3. Data Overview and Exploration"
   ]
  },
  {
   "cell_type": "code",
   "execution_count": null,
   "metadata": {},
   "outputs": [],
   "source": [
    "# Display basic information about each dataset\n",
    "print(\"=== CUSTOMER DATA (df) ===\")\n",
    "print(f\"Shape: {df.shape}\")\n",
    "print(f\"Columns: {list(df.columns)}\")\n",
    "print(\"\\nFirst 5 rows:\")\n",
    "display(df.head())\n",
    "\n",
    "print(\"\\n\" + \"=\"*50)\n",
    "print(\"=== INVENTORY DATA (df2) ===\")\n",
    "print(f\"Shape: {df2.shape}\")\n",
    "print(f\"Columns: {list(df2.columns)}\")\n",
    "print(\"\\nFirst 5 rows:\")\n",
    "display(df2.head())\n",
    "\n",
    "print(\"\\n\" + \"=\"*50)\n",
    "print(\"=== SALES DATA (df3) ===\")\n",
    "print(f\"Shape: {df3.shape}\")\n",
    "print(f\"Columns: {list(df3.columns)}\")\n",
    "print(\"\\nFirst 5 rows:\")\n",
    "display(df3.head())"
   ]
  },
  {
   "cell_type": "code",
   "execution_count": null,
   "metadata": {},
   "outputs": [],
   "source": []
  },
  {
   "cell_type": "markdown",
   "metadata": {},
   "source": [
    "## 4. Customer Data Processing"
   ]
  },
  {
   "cell_type": "code",
   "execution_count": null,
   "metadata": {},
   "outputs": [],
   "source": [
    "# Process customer account data\n",
    "print(\"Processing customer account data...\")\n",
    "\n",
    "# Add clean customer names\n",
    "df['customer_name_clean'] = df['Customer'].apply(clean_customer_name)\n",
    "\n",
    "df3['customer_name_clean'] = df3['Name'].apply(clean_customer_name)\n",
    "\n"
   ]
  },
  {
   "cell_type": "markdown",
   "metadata": {},
   "source": [
    "# 5. Remove uneccessary columns"
   ]
  },
  {
   "cell_type": "code",
   "execution_count": null,
   "metadata": {},
   "outputs": [],
   "source": [
    "# Remove 'Unnamed: 0' columns from all dataframes\n",
    "\n",
    "df2 = df2.drop(columns=['Category','Preferred Vendor'])"
   ]
  },
  {
   "cell_type": "markdown",
   "metadata": {},
   "source": [
    "## 6. Email Data Processing"
   ]
  },
  {
   "cell_type": "code",
   "execution_count": null,
   "metadata": {},
   "outputs": [],
   "source": [
    "# Load and process email data\n",
    "print(\"Loading email data...\")\n",
    "email_df = load_email_data()\n",
    "\n",
    "print(\"\\nProcessing email dates and times...\")\n",
    "email_df = process_email_dates(email_df)\n",
    "\n",
    "print(\"\\nEmail data shape after processing:\", email_df.shape)\n",
    "print(\"\\nEmail data columns:\", list(email_df.columns))\n",
    "\n",
    "print(\"\\n\" + \"=\"*50)\n",
    "print(\"EMAIL DATA PROCESSING COMPLETED\")\n",
    "print(\"=\"*50)"
   ]
  },
  {
   "cell_type": "markdown",
   "metadata": {},
   "source": [
    "# 7. Inventory columns catagorizing"
   ]
  },
  {
   "cell_type": "code",
   "execution_count": null,
   "metadata": {},
   "outputs": [],
   "source": [
    "# Import and run the inventory category splitting function\n",
    "from split_inventory_categories import split_inventory_categories\n",
    "\n",
    "# Run the function to split df2 Item column into categories\n",
    "df, df2_processed, df3 = split_inventory_categories()\n",
    "\n",
    "# Display the results\n",
    "print(\"\\n=== PROCESSED INVENTORY DATA ===\")\n",
    "print(f\"Shape: {df2_processed.shape}\")\n",
    "print(f\"Columns: {list(df2_processed.columns)}\")\n",
    "\n",
    "# Show sample of the split data\n",
    "print(\"\\n--- Sample Split Data ---\")\n",
    "sample_cols = ['Item'] + [col for col in df2_processed.columns if col.startswith('Category_Level_')] + ['Product_Code']\n",
    "display(df2_processed[sample_cols].head(10))\n",
    "\n",
    "# Update the original df2 variable\n",
    "df2 = df2_processed\n",
    "\n",
    "print(\"\\n\" + \"=\"*50)\n",
    "print(\"INVENTORY CATEGORY SPLITTING COMPLETED\")\n",
    "print(\"=\"*50)"
   ]
  },
  {
   "cell_type": "markdown",
   "metadata": {},
   "source": [
    "## 8. Customer Matching Analysis"
   ]
  },
  {
   "cell_type": "code",
   "execution_count": null,
   "metadata": {},
   "outputs": [],
   "source": [
    "# Process account data to extract business information\n",
    "df_processed = process_account_data(df)\n",
    "\n",
    "# Analyze the processed data\n",
    "business_groups = analyze_business_data(df_processed)\n",
    "\n",
    "# Save processed data\n",
    "df_processed.to_csv('../data/processed_accounts.csv', index=False)\n",
    "print(\"\\nProcessed data saved to '../data/processed_accounts.csv'\")\n",
    "\n",
    "print(\"\\n\" + \"=\"*50)\n",
    "print(\"CUSTOMER DATA PROCESSING COMPLETED\")\n",
    "print(\"=\"*50)"
   ]
  },
  {
   "cell_type": "code",
   "execution_count": null,
   "metadata": {},
   "outputs": [],
   "source": [
    "# Analyze customer matching between customer data and sales data\n",
    "print(\"Analyzing customer matching between datasets...\")\n",
    "\n",
    "matching_results = analyze_customer_matching(df_processed, df3)\n",
    "\n",
    "print(\"\\n\" + \"=\"*50)\n",
    "print(\"CUSTOMER MATCHING ANALYSIS COMPLETED\")\n",
    "print(\"=\"*50)"
   ]
  },
  {
   "cell_type": "markdown",
   "metadata": {},
   "source": [
    "## 9. Data Quality Assessment"
   ]
  },
  {
   "cell_type": "code",
   "execution_count": null,
   "metadata": {},
   "outputs": [],
   "source": [
    "# Assess data quality across all datasets\n",
    "print(\"=== DATA QUALITY ASSESSMENT ===\")\n",
    "\n",
    "# Customer data quality\n",
    "print(\"\\n--- Customer Data Quality ---\")\n",
    "print(f\"Total records: {len(df_processed)}\")\n",
    "print(f\"Missing values in key columns:\")\n",
    "print(df_processed[['Customer', 'Account No.', 'Main Email', 'Main Phone']].isnull().sum())\n",
    "\n",
    "# Sales data quality\n",
    "print(\"\\n--- Sales Data Quality ---\")\n",
    "print(f\"Total records: {len(df3)}\")\n",
    "print(f\"Missing values in key columns:\")\n",
    "print(df3[['Name', 'Date', 'Amount', 'Item']].isnull().sum())\n",
    "\n",
    "# Email data quality\n",
    "print(\"\\n--- Email Data Quality ---\")\n",
    "print(f\"Total records: {len(email_df)}\")\n",
    "print(f\"Missing values in key columns:\")\n",
    "print(email_df[['fromAddress', 'toAddress', 'subject', 'sentDate']].isnull().sum())\n",
    "\n",
    "print(\"\\n\" + \"=\"*50)\n",
    "print(\"DATA QUALITY ASSESSMENT COMPLETED\")\n",
    "print(\"=\"*50)"
   ]
  },
  {
   "cell_type": "markdown",
   "metadata": {},
   "source": [
    "## 10. Summary Statistics"
   ]
  },
  {
   "cell_type": "code",
   "execution_count": null,
   "metadata": {},
   "outputs": [],
   "source": [
    "# Generate summary statistics\n",
    "print(\"=== SUMMARY STATISTICS ===\")\n",
    "\n",
    "print(\"\\n--- Dataset Overview ---\")\n",
    "print(f\"Customer Records: {len(df_processed):,}\")\n",
    "print(f\"Sales Records: {len(df3):,}\")\n",
    "print(f\"Email Records: {len(email_df):,}\")\n",
    "print(f\"Inventory Records: {len(df2):,}\")\n",
    "\n",
    "print(\"\\n--- Business Information ---\")\n",
    "print(f\"Unique Businesses: {df_processed['business_id'].nunique():,}\")\n",
    "print(f\"Unique Customer Names: {df_processed['customer_name_clean'].nunique():,}\")\n",
    "print(f\"Unique Email Senders: {email_df['fromAddress'].nunique():,}\")\n",
    "print(f\"Unique Email Recipients: {email_df['toAddress'].nunique():,}\")\n",
    "\n",
    "print(\"\\n--- Account Types ---\")\n",
    "account_type_summary = df_processed['account_type'].value_counts()\n",
    "for account_type, count in account_type_summary.items():\n",
    "    print(f\"{account_type}: {count:,}\")\n",
    "\n",
    "print(\"\\n--- Email Communication ---\")\n",
    "print(f\"Date Range: {email_df['sentDate'].min()} to {email_df['sentDate'].max()}\")\n",
    "print(f\"Total Email Volume: {len(email_df):,}\")\n",
    "\n",
    "print(\"\\n\" + \"=\"*50)\n",
    "print(\"SUMMARY STATISTICS COMPLETED\")\n",
    "print(\"=\"*50)"
   ]
  },
  {
   "cell_type": "markdown",
   "metadata": {},
   "source": [
    "## 11. Data Export and Next Steps"
   ]
  },
  {
   "cell_type": "code",
   "execution_count": null,
   "metadata": {},
   "outputs": [],
   "source": [
    "# Export processed data for further analysis\n",
    "print(\"Exporting processed data...\")\n",
    "\n",
    "# Export processed customer data\n",
    "df_processed.to_csv('../data/processed_customer_data.csv', index=False)\n",
    "print(\"✓ Processed customer data exported\")\n",
    "\n",
    "# Export processed email data\n",
    "email_df.to_csv('../data/processed_email_data.csv', index=False)\n",
    "print(\"✓ Processed email data exported\")\n",
    "\n",
    "# Export sales data with clean customer names\n",
    "if 'customer_name_clean' not in df3.columns:\n",
    "    df3['customer_name_clean'] = df3['Name'].apply(clean_customer_name)\n",
    "df3.to_csv('../data/processed_sales_data.csv', index=False)\n",
    "print(\"✓ Processed sales data exported\")\n",
    "\n",
    "# Export inventory data with sub catogories \n",
    "df2.to_csv('../data/processed_inventory _data.csv', index=False)\n",
    "print(\"✓ Processed inventory data exported\")\n",
    "\n",
    "\n",
    "print(\"\\n=== EXPORT COMPLETED ===\")\n",
    "print(\"All processed data has been exported to the 'data' folder.\")\n",
    "print(\"\\nNext steps:\")\n",
    "print(\"1. Review the processed data files\")\n",
    "print(\"2. Perform additional analysis as needed\")\n",
    "print(\"3. Create visualizations and reports\")\n",
    "print(\"4. Implement email automation logic\")\n",
    "\n",
    "print(\"\\n\" + \"=\"*50)\n",
    "print(\"DATA ANALYSIS COMPLETED\")\n",
    "print(\"=\"*50)"
   ]
  }
 ],
 "metadata": {
  "kernelspec": {
   "display_name": "Python 3",
   "language": "python",
   "name": "python3"
  },
  "language_info": {
   "codemirror_mode": {
    "name": "ipython",
    "version": 3
   },
   "file_extension": ".py",
   "mimetype": "text/x-python",
   "name": "python",
   "nbconvert_exporter": "python",
   "pygments_lexer": "ipython3",
   "version": "3.11.4"
  }
 },
 "nbformat": 4,
 "nbformat_minor": 2
}
